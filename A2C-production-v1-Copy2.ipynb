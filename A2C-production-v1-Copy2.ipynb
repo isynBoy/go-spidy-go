{
 "cells": [
  {
   "cell_type": "code",
   "execution_count": 1,
   "metadata": {},
   "outputs": [],
   "source": [
    "from baselines.common.vec_env.subproc_vec_env import SubprocVecEnv\n",
    "from baselines.common.vec_env.dummy_vec_env import DummyVecEnv\n",
    "from tqdm import tqdm_notebook\n",
    "import matplotlib.pyplot as plt\n",
    "import tensorflow as tf\n",
    "import numpy as np\n",
    "import copy\n",
    "import random\n",
    "import gym\n",
    "import scipy\n",
    "import pickle"
   ]
  },
  {
   "cell_type": "markdown",
   "metadata": {},
   "source": [
    "# Common functions"
   ]
  },
  {
   "cell_type": "code",
   "execution_count": 24,
   "metadata": {},
   "outputs": [],
   "source": [
    "# Moving average\n",
    "def smoothen_curve(points, factor=0.9):\n",
    "    smoothed_points = []\n",
    "    for point in points:\n",
    "        if smoothed_points:\n",
    "            previous = smoothed_points[-1]\n",
    "            smoothed_points.append(previous * factor + point * (1 - factor))\n",
    "        else:\n",
    "            smoothed_points.append(point)\n",
    "    return smoothed_points\n",
    "\n",
    "\n",
    "def plot(array, title='', axis=plt):\n",
    "    axis.title.set_text(title)\n",
    "    axis.plot(np.arange(len(array)), smoothen_curve(array, 0.9))"
   ]
  },
  {
   "cell_type": "code",
   "execution_count": 20,
   "metadata": {},
   "outputs": [],
   "source": [
    "def make_env(env_id, seed):\n",
    "    def _f():\n",
    "        env = gym.make(env_id)\n",
    "        env.seed(seed)\n",
    "\n",
    "        # Desync environments\n",
    "        env.reset()\n",
    "        for i in range(int(env.spec.max_episode_steps*seed//nproc)):\n",
    "            env.step(env.action_space.sample())\n",
    "        return env\n",
    "    return _f"
   ]
  },
  {
   "cell_type": "markdown",
   "metadata": {},
   "source": [
    "# Global variables"
   ]
  },
  {
   "cell_type": "code",
   "execution_count": 4,
   "metadata": {},
   "outputs": [
    {
     "name": "stderr",
     "output_type": "stream",
     "text": [
      "C:\\Users\\suriknik\\Anaconda3\\lib\\site-packages\\gym\\logger.py:30: UserWarning: WARN: You are calling 'step()' even though this environment has already returned done = True. You should always call 'reset()' once you receive 'done = True' -- any further steps are undefined behavior.\n",
      "  warnings.warn(colorize('%s: %s'%('WARN', msg % args), 'yellow'))\n"
     ]
    }
   ],
   "source": [
    "env_name = \"CartPole-v1\"\n",
    "pi_learning_rate = 3e-4\n",
    "v_learning_rate = 3e-4\n",
    "discount_factor = 0.98\n",
    "lambda_factor = 0.96\n",
    "\n",
    "iterations = 500000\n",
    "batch_size = 128\n",
    "history_size = 128\n",
    "\n",
    "nproc = 40\n",
    "envs = DummyVecEnv([make_env(env_name, seed) for seed in range(nproc)]) #Dummy\n",
    "        \n",
    "# This code gets action and observation space sizes for 1D tasks\n",
    "action_space_size = envs.action_space.n if isinstance(envs.action_space, gym.spaces.discrete.Discrete) else envs.action_space.shape[0]\n",
    "observation_space_size = envs.observation_space.n if isinstance(envs.observation_space, gym.spaces.discrete.Discrete) else envs.observation_space.shape[0]"
   ]
  },
  {
   "cell_type": "code",
   "execution_count": 5,
   "metadata": {},
   "outputs": [],
   "source": [
    "logger = {\n",
    "    \"actor_loss\": [],\n",
    "    \"actor_gradients_max_abs\": [],\n",
    "    \"actor_gradients_equal_zero\": [],\n",
    "    \"critic_loss\": [],\n",
    "    \"critic_gradients_max_abs\": [],\n",
    "    \"critic_gradients_equal_zero\": [],\n",
    "    \"value_mean\": [],\n",
    "    \"reward\": [],\n",
    "    \"adv_mean\": [],\n",
    "    \"actions_max\": [],\n",
    "}"
   ]
  },
  {
   "cell_type": "markdown",
   "metadata": {},
   "source": [
    "## Neural net configuration"
   ]
  },
  {
   "cell_type": "code",
   "execution_count": 6,
   "metadata": {},
   "outputs": [],
   "source": [
    "EPS = 1e-8\n",
    "def gaussian_likelihood(x, mu, log_std):\n",
    "    pre_sum = -0.5 * (((x-mu)/(tf.exp(log_std)+EPS))**2 + 2*log_std + np.log(2*np.pi))\n",
    "    return tf.reduce_sum(pre_sum, axis=1)"
   ]
  },
  {
   "cell_type": "code",
   "execution_count": 7,
   "metadata": {},
   "outputs": [],
   "source": [
    "tf.reset_default_graph()\n",
    "sess = tf.Session()"
   ]
  },
  {
   "cell_type": "code",
   "execution_count": 8,
   "metadata": {},
   "outputs": [],
   "source": [
    "class ActorNetwork():\n",
    "    def __init__(self):\n",
    "        var_scope_name = \"actor/\"\n",
    "        with tf.variable_scope(var_scope_name):\n",
    "            self.input_state = tf.placeholder(tf.float32, shape=(None, observation_space_size), name=\"input_state\")\n",
    "            self.l1 = tf.layers.dense(self.input_state, units=100, activation=tf.tanh)\n",
    "            self.l2 = tf.layers.dense(self.l1, units=50, activation=tf.tanh)\n",
    "            self.l3 = tf.layers.dense(self.l2, units=25, activation=tf.tanh)\n",
    "            self.output_layer = tf.layers.dense(self.l3, units=action_space_size)\n",
    "\n",
    "            log_std = tf.get_variable(name='log_std', initializer=-0.5*np.ones(action_space_size, dtype=np.float32))\n",
    "            std = tf.exp(log_std)\n",
    "\n",
    "            self.action_op = self.output_layer + tf.random_normal(shape=tf.shape(self.output_layer)) * std\n",
    "            \n",
    "            # Training\n",
    "            self.action_ph = tf.placeholder(tf.float32, shape=(None, action_space_size), name=\"action_ph\")\n",
    "            self.adv_ph = tf.placeholder(tf.float32, shape=(None), name=\"adv_ph\")\n",
    "\n",
    "            self.logp = gaussian_likelihood(self.action_ph, self.output_layer, log_std)\n",
    "            self.loss = -tf.reduce_mean(self.adv_ph * self.logp)\n",
    "            \n",
    "            self.gradients = tf.gradients(self.loss, [t_var for t_var in tf.trainable_variables() if var_scope_name in t_var.name]) # For Debug!\n",
    "            self.train_op = tf.train.AdamOptimizer(pi_learning_rate).minimize(self.loss)"
   ]
  },
  {
   "cell_type": "code",
   "execution_count": 9,
   "metadata": {},
   "outputs": [],
   "source": [
    "class DiscreteActorNetwork():\n",
    "    def __init__(self):\n",
    "        var_scope_name = \"discrete_actor/\"\n",
    "        with tf.variable_scope(var_scope_name):\n",
    "            self.input_state = tf.placeholder(tf.float32, shape=(None, observation_space_size), name=\"input_state\")\n",
    "            self.l1 = tf.layers.dense(self.input_state, units=100, activation=tf.tanh)\n",
    "            self.l2 = tf.layers.dense(self.l1, units=50, activation=tf.tanh)\n",
    "            self.l3 = tf.layers.dense(self.l2, units=25, activation=tf.tanh)\n",
    "            self.output_layer = tf.layers.dense(self.l3, units=action_space_size)\n",
    "\n",
    "            self.action_ph = tf.placeholder(tf.int32, shape=(None), name=\"action_ph\")\n",
    "            self.adv_ph = tf.placeholder(tf.float32, shape=(None), name=\"adv_ph\")\n",
    "            self.action_mask = tf.one_hot(self.action_ph, action_space_size)\n",
    "\n",
    "            self.action_op = tf.squeeze(tf.multinomial(logits=self.output_layer, num_samples=1), axis=1)\n",
    "\n",
    "            self.logp = tf.reduce_sum(self.action_mask * tf.nn.log_softmax(self.output_layer), axis=1)\n",
    "            self.loss = -tf.reduce_mean(self.adv_ph * self.logp)\n",
    "            \n",
    "            self.gradients = tf.gradients(self.loss, [t_var for t_var in tf.trainable_variables() if var_scope_name in t_var.name]) # For Debug!\n",
    "            self.train_op = tf.train.AdamOptimizer(pi_learning_rate).minimize(self.loss)"
   ]
  },
  {
   "cell_type": "code",
   "execution_count": 10,
   "metadata": {},
   "outputs": [],
   "source": [
    "class CriticNetwork():\n",
    "    def __init__(self):\n",
    "        var_scope_name = \"critic/\"\n",
    "        with tf.variable_scope(var_scope_name):\n",
    "            self.input_state = tf.placeholder(tf.float32, shape=(None, observation_space_size))\n",
    "            self.l1 = tf.layers.dense(self.input_state, units=64, activation=tf.nn.tanh)\n",
    "            self.output_layer = tf.layers.dense(self.l1, units=1)\n",
    "\n",
    "            self.target_value_ph = tf.placeholder(tf.float32, shape=(None), name=\"target_value_ph\")\n",
    "            self.get_v_op = tf.squeeze(self.output_layer, axis=1)\n",
    "\n",
    "            self.loss = tf.losses.mean_squared_error(self.target_value_ph, self.get_v_op)            \n",
    "            self.gradients = tf.gradients(self.loss, [t_var for t_var in tf.trainable_variables() if var_scope_name in t_var.name]) # For Debug!\n",
    "            self.train_op = tf.train.AdamOptimizer(v_learning_rate).minimize(self.loss)"
   ]
  },
  {
   "cell_type": "code",
   "execution_count": 11,
   "metadata": {},
   "outputs": [
    {
     "name": "stderr",
     "output_type": "stream",
     "text": [
      "WARNING: Logging before flag parsing goes to stderr.\n",
      "W0722 16:43:32.905462  2356 deprecation.py:323] From <ipython-input-9-3b92ee0c82fc>:6: dense (from tensorflow.python.layers.core) is deprecated and will be removed in a future version.\n",
      "Instructions for updating:\n",
      "Use keras.layers.dense instead.\n",
      "W0722 16:43:32.925467  2356 deprecation.py:506] From C:\\Users\\suriknik\\Anaconda3\\lib\\site-packages\\tensorflow\\python\\ops\\init_ops.py:1251: calling VarianceScaling.__init__ (from tensorflow.python.ops.init_ops) with dtype is deprecated and will be removed in a future version.\n",
      "Instructions for updating:\n",
      "Call initializer instance with the dtype argument instead of passing it to the constructor\n",
      "W0722 16:43:33.360443  2356 deprecation.py:323] From <ipython-input-9-3b92ee0c82fc>:15: multinomial (from tensorflow.python.ops.random_ops) is deprecated and will be removed in a future version.\n",
      "Instructions for updating:\n",
      "Use `tf.random.categorical` instead.\n",
      "W0722 16:43:33.795438  2356 deprecation.py:323] From C:\\Users\\suriknik\\Anaconda3\\lib\\site-packages\\tensorflow\\python\\ops\\losses\\losses_impl.py:121: add_dispatch_support.<locals>.wrapper (from tensorflow.python.ops.array_ops) is deprecated and will be removed in a future version.\n",
      "Instructions for updating:\n",
      "Use tf.where in 2.0, which has the same broadcast rule as np.where\n"
     ]
    }
   ],
   "source": [
    "actor_net = DiscreteActorNetwork()\n",
    "critic_net = CriticNetwork()\n",
    "sess.run(tf.local_variables_initializer())\n",
    "sess.run(tf.global_variables_initializer())"
   ]
  },
  {
   "cell_type": "markdown",
   "metadata": {},
   "source": [
    "# Batch generator"
   ]
  },
  {
   "cell_type": "code",
   "execution_count": 12,
   "metadata": {},
   "outputs": [],
   "source": [
    "def reward_to_go(rews):\n",
    "    return np.cumsum(rews[::-1])[::-1]"
   ]
  },
  {
   "cell_type": "code",
   "execution_count": 13,
   "metadata": {},
   "outputs": [],
   "source": [
    "def discount_cumsum(x, discount):\n",
    "    \"\"\"\n",
    "    magic from rllab for computing discounted cumulative sums of vectors.\n",
    "    input: \n",
    "        vector x, \n",
    "        [x0, \n",
    "         x1, \n",
    "         x2]\n",
    "    output:\n",
    "        [x0 + discount * x1 + discount^2 * x2,  \n",
    "         x1 + discount * x2,\n",
    "         x2]\n",
    "    \"\"\"\n",
    "    return scipy.signal.lfilter([1], [1, float(-discount)], x[::-1], axis=0)[::-1]"
   ]
  },
  {
   "cell_type": "code",
   "execution_count": 14,
   "metadata": {},
   "outputs": [],
   "source": [
    "def estimate_advantage(states, rewards):\n",
    "    values = sess.run(critic_net.get_v_op, feed_dict={critic_net.input_state: states})\n",
    "    deltas = rewards - values\n",
    "    deltas = deltas + discount_factor * np.append(values[1:], np.array([0]))\n",
    "    \n",
    "    advantage = discount_cumsum(deltas, lambda_factor * discount_factor)\n",
    "    \n",
    "#     gamma_labda_powers = [(discount_factor * lambda_factor) ** l for l in range(len(states))]\n",
    "#     advantage2 = np.zeros_like(rewards)\n",
    "#     for t in range(len(values)):\n",
    "#         for l in range(len(states) - t): # We have finite sum case\n",
    "#             advantage2[t] += gamma_labda_powers[l] * deltas[t + l]\n",
    "    return advantage, values"
   ]
  },
  {
   "cell_type": "code",
   "execution_count": 15,
   "metadata": {},
   "outputs": [],
   "source": [
    "def batch_generator(batch_size, history_size):\n",
    "    \"\"\"\n",
    "        history[0] = state\n",
    "        history[1] = action\n",
    "        history[2] = reward / advantage\n",
    "        histpry[3] = reward-to-go\n",
    "    \"\"\"\n",
    "    history = np.empty((0, 4))\n",
    "    trajectories = [np.empty((0, 4)) for _ in range(nproc)] # creating trajectory for each process\n",
    "    observations = np.array([[0 for i in range(observation_space_size)] for j in range(nproc)]) #envs.reset()\n",
    "    \n",
    "    while True:\n",
    "        history = history[batch_size:]\n",
    "        while len(history) < history_size:\n",
    "            observations_old = observations\n",
    "            actions = sess.run((actor_net.action_op), feed_dict={\n",
    "                    actor_net.input_state: observations_old,\n",
    "                })\n",
    "            logger[\"actions_max\"].append(actions.max())\n",
    "            observations, rewards, dones, _ = envs.step(actions)\n",
    "            \n",
    "            for pid in range(nproc):\n",
    "                trajectories[pid] = np.vstack((trajectories[pid], [observations_old[pid], actions[pid], rewards[pid], None]))\n",
    "                \n",
    "                if dones[pid]:\n",
    "                    if len(trajectories[pid]) > 2:\n",
    "                        input_states = np.array(np.array(trajectories[pid][:, 0].tolist()))\n",
    "                        logger[\"reward\"].append(trajectories[pid][:, 2].sum())\n",
    "                        trajectories[pid][:, 3] = discount_cumsum(trajectories[pid][:, 2], discount_factor)\n",
    "                        trajectories[pid][:, 2], values = estimate_advantage(input_states, trajectories[pid][:, 2])\n",
    "                        logger[\"adv_mean\"].append(trajectories[pid][:, 2].sum())\n",
    "                        logger[\"value_mean\"].append(values.mean())\n",
    "                        history = np.vstack((history, trajectories[pid]))\n",
    "                    trajectories[pid] = np.empty((0, 4))\n",
    "            \n",
    "        np.random.shuffle(history)\n",
    "        history = history[:history_size]\n",
    "        yield history[:batch_size]"
   ]
  },
  {
   "cell_type": "markdown",
   "metadata": {},
   "source": [
    "# Main cycle"
   ]
  },
  {
   "cell_type": "code",
   "execution_count": 16,
   "metadata": {},
   "outputs": [],
   "source": [
    "max_reward = -1e9"
   ]
  },
  {
   "cell_type": "code",
   "execution_count": 27,
   "metadata": {
    "scrolled": true
   },
   "outputs": [
    {
     "data": {
      "application/vnd.jupyter.widget-view+json": {
       "model_id": "9ff7d79a8067476f9cd412f746d89590",
       "version_major": 2,
       "version_minor": 0
      },
      "text/plain": [
       "HBox(children=(IntProgress(value=0, max=500000), HTML(value='')))"
      ]
     },
     "metadata": {},
     "output_type": "display_data"
    },
    {
     "ename": "KeyboardInterrupt",
     "evalue": "",
     "output_type": "error",
     "traceback": [
      "\u001b[1;31m---------------------------------------------------------------------------\u001b[0m",
      "\u001b[1;31mKeyboardInterrupt\u001b[0m                         Traceback (most recent call last)",
      "\u001b[1;32m<ipython-input-27-9becdc7498c4>\u001b[0m in \u001b[0;36m<module>\u001b[1;34m\u001b[0m\n\u001b[0;32m      3\u001b[0m \u001b[1;33m\u001b[0m\u001b[0m\n\u001b[0;32m      4\u001b[0m \u001b[1;32mfor\u001b[0m \u001b[0mi\u001b[0m \u001b[1;32min\u001b[0m \u001b[0mtqdm_notebook\u001b[0m\u001b[1;33m(\u001b[0m\u001b[0mrange\u001b[0m\u001b[1;33m(\u001b[0m\u001b[0miterations\u001b[0m\u001b[1;33m)\u001b[0m\u001b[1;33m)\u001b[0m\u001b[1;33m:\u001b[0m\u001b[1;33m\u001b[0m\u001b[1;33m\u001b[0m\u001b[0m\n\u001b[1;32m----> 5\u001b[1;33m     \u001b[0mbatch\u001b[0m \u001b[1;33m=\u001b[0m \u001b[0mnext\u001b[0m\u001b[1;33m(\u001b[0m\u001b[0mbatch_gen\u001b[0m\u001b[1;33m)\u001b[0m\u001b[1;33m\u001b[0m\u001b[1;33m\u001b[0m\u001b[0m\n\u001b[0m\u001b[0;32m      6\u001b[0m \u001b[1;33m\u001b[0m\u001b[0m\n\u001b[0;32m      7\u001b[0m     \u001b[0minput_state\u001b[0m \u001b[1;33m=\u001b[0m \u001b[0mbatch\u001b[0m\u001b[1;33m[\u001b[0m\u001b[1;33m:\u001b[0m\u001b[1;33m,\u001b[0m \u001b[1;36m0\u001b[0m\u001b[1;33m]\u001b[0m\u001b[1;33m.\u001b[0m\u001b[0mtolist\u001b[0m\u001b[1;33m(\u001b[0m\u001b[1;33m)\u001b[0m\u001b[1;33m\u001b[0m\u001b[1;33m\u001b[0m\u001b[0m\n",
      "\u001b[1;32m<ipython-input-15-c05090236bf0>\u001b[0m in \u001b[0;36mbatch_generator\u001b[1;34m(batch_size, history_size)\u001b[0m\n\u001b[0;32m     28\u001b[0m                         \u001b[0mlogger\u001b[0m\u001b[1;33m[\u001b[0m\u001b[1;34m\"reward\"\u001b[0m\u001b[1;33m]\u001b[0m\u001b[1;33m.\u001b[0m\u001b[0mappend\u001b[0m\u001b[1;33m(\u001b[0m\u001b[0mtrajectories\u001b[0m\u001b[1;33m[\u001b[0m\u001b[0mpid\u001b[0m\u001b[1;33m]\u001b[0m\u001b[1;33m[\u001b[0m\u001b[1;33m:\u001b[0m\u001b[1;33m,\u001b[0m \u001b[1;36m2\u001b[0m\u001b[1;33m]\u001b[0m\u001b[1;33m.\u001b[0m\u001b[0msum\u001b[0m\u001b[1;33m(\u001b[0m\u001b[1;33m)\u001b[0m\u001b[1;33m)\u001b[0m\u001b[1;33m\u001b[0m\u001b[1;33m\u001b[0m\u001b[0m\n\u001b[0;32m     29\u001b[0m                         \u001b[0mtrajectories\u001b[0m\u001b[1;33m[\u001b[0m\u001b[0mpid\u001b[0m\u001b[1;33m]\u001b[0m\u001b[1;33m[\u001b[0m\u001b[1;33m:\u001b[0m\u001b[1;33m,\u001b[0m \u001b[1;36m3\u001b[0m\u001b[1;33m]\u001b[0m \u001b[1;33m=\u001b[0m \u001b[0mdiscount_cumsum\u001b[0m\u001b[1;33m(\u001b[0m\u001b[0mtrajectories\u001b[0m\u001b[1;33m[\u001b[0m\u001b[0mpid\u001b[0m\u001b[1;33m]\u001b[0m\u001b[1;33m[\u001b[0m\u001b[1;33m:\u001b[0m\u001b[1;33m,\u001b[0m \u001b[1;36m2\u001b[0m\u001b[1;33m]\u001b[0m\u001b[1;33m,\u001b[0m \u001b[0mdiscount_factor\u001b[0m\u001b[1;33m)\u001b[0m\u001b[1;33m\u001b[0m\u001b[1;33m\u001b[0m\u001b[0m\n\u001b[1;32m---> 30\u001b[1;33m                         \u001b[0mtrajectories\u001b[0m\u001b[1;33m[\u001b[0m\u001b[0mpid\u001b[0m\u001b[1;33m]\u001b[0m\u001b[1;33m[\u001b[0m\u001b[1;33m:\u001b[0m\u001b[1;33m,\u001b[0m \u001b[1;36m2\u001b[0m\u001b[1;33m]\u001b[0m\u001b[1;33m,\u001b[0m \u001b[0mvalues\u001b[0m \u001b[1;33m=\u001b[0m \u001b[0mestimate_advantage\u001b[0m\u001b[1;33m(\u001b[0m\u001b[0minput_states\u001b[0m\u001b[1;33m,\u001b[0m \u001b[0mtrajectories\u001b[0m\u001b[1;33m[\u001b[0m\u001b[0mpid\u001b[0m\u001b[1;33m]\u001b[0m\u001b[1;33m[\u001b[0m\u001b[1;33m:\u001b[0m\u001b[1;33m,\u001b[0m \u001b[1;36m2\u001b[0m\u001b[1;33m]\u001b[0m\u001b[1;33m)\u001b[0m\u001b[1;33m\u001b[0m\u001b[1;33m\u001b[0m\u001b[0m\n\u001b[0m\u001b[0;32m     31\u001b[0m                         \u001b[0mlogger\u001b[0m\u001b[1;33m[\u001b[0m\u001b[1;34m\"adv_mean\"\u001b[0m\u001b[1;33m]\u001b[0m\u001b[1;33m.\u001b[0m\u001b[0mappend\u001b[0m\u001b[1;33m(\u001b[0m\u001b[0mtrajectories\u001b[0m\u001b[1;33m[\u001b[0m\u001b[0mpid\u001b[0m\u001b[1;33m]\u001b[0m\u001b[1;33m[\u001b[0m\u001b[1;33m:\u001b[0m\u001b[1;33m,\u001b[0m \u001b[1;36m2\u001b[0m\u001b[1;33m]\u001b[0m\u001b[1;33m.\u001b[0m\u001b[0msum\u001b[0m\u001b[1;33m(\u001b[0m\u001b[1;33m)\u001b[0m\u001b[1;33m)\u001b[0m\u001b[1;33m\u001b[0m\u001b[1;33m\u001b[0m\u001b[0m\n\u001b[0;32m     32\u001b[0m                         \u001b[0mlogger\u001b[0m\u001b[1;33m[\u001b[0m\u001b[1;34m\"value_mean\"\u001b[0m\u001b[1;33m]\u001b[0m\u001b[1;33m.\u001b[0m\u001b[0mappend\u001b[0m\u001b[1;33m(\u001b[0m\u001b[0mvalues\u001b[0m\u001b[1;33m.\u001b[0m\u001b[0mmean\u001b[0m\u001b[1;33m(\u001b[0m\u001b[1;33m)\u001b[0m\u001b[1;33m)\u001b[0m\u001b[1;33m\u001b[0m\u001b[1;33m\u001b[0m\u001b[0m\n",
      "\u001b[1;32m<ipython-input-14-d971d3f16742>\u001b[0m in \u001b[0;36mestimate_advantage\u001b[1;34m(states, rewards)\u001b[0m\n\u001b[0;32m      1\u001b[0m \u001b[1;32mdef\u001b[0m \u001b[0mestimate_advantage\u001b[0m\u001b[1;33m(\u001b[0m\u001b[0mstates\u001b[0m\u001b[1;33m,\u001b[0m \u001b[0mrewards\u001b[0m\u001b[1;33m)\u001b[0m\u001b[1;33m:\u001b[0m\u001b[1;33m\u001b[0m\u001b[1;33m\u001b[0m\u001b[0m\n\u001b[1;32m----> 2\u001b[1;33m     \u001b[0mvalues\u001b[0m \u001b[1;33m=\u001b[0m \u001b[0msess\u001b[0m\u001b[1;33m.\u001b[0m\u001b[0mrun\u001b[0m\u001b[1;33m(\u001b[0m\u001b[0mcritic_net\u001b[0m\u001b[1;33m.\u001b[0m\u001b[0mget_v_op\u001b[0m\u001b[1;33m,\u001b[0m \u001b[0mfeed_dict\u001b[0m\u001b[1;33m=\u001b[0m\u001b[1;33m{\u001b[0m\u001b[0mcritic_net\u001b[0m\u001b[1;33m.\u001b[0m\u001b[0minput_state\u001b[0m\u001b[1;33m:\u001b[0m \u001b[0mstates\u001b[0m\u001b[1;33m}\u001b[0m\u001b[1;33m)\u001b[0m\u001b[1;33m\u001b[0m\u001b[1;33m\u001b[0m\u001b[0m\n\u001b[0m\u001b[0;32m      3\u001b[0m     \u001b[0mdeltas\u001b[0m \u001b[1;33m=\u001b[0m \u001b[0mrewards\u001b[0m \u001b[1;33m-\u001b[0m \u001b[0mvalues\u001b[0m\u001b[1;33m\u001b[0m\u001b[1;33m\u001b[0m\u001b[0m\n\u001b[0;32m      4\u001b[0m     \u001b[0mdeltas\u001b[0m \u001b[1;33m=\u001b[0m \u001b[0mdeltas\u001b[0m \u001b[1;33m+\u001b[0m \u001b[0mdiscount_factor\u001b[0m \u001b[1;33m*\u001b[0m \u001b[0mnp\u001b[0m\u001b[1;33m.\u001b[0m\u001b[0mappend\u001b[0m\u001b[1;33m(\u001b[0m\u001b[0mvalues\u001b[0m\u001b[1;33m[\u001b[0m\u001b[1;36m1\u001b[0m\u001b[1;33m:\u001b[0m\u001b[1;33m]\u001b[0m\u001b[1;33m,\u001b[0m \u001b[0mnp\u001b[0m\u001b[1;33m.\u001b[0m\u001b[0marray\u001b[0m\u001b[1;33m(\u001b[0m\u001b[1;33m[\u001b[0m\u001b[1;36m0\u001b[0m\u001b[1;33m]\u001b[0m\u001b[1;33m)\u001b[0m\u001b[1;33m)\u001b[0m\u001b[1;33m\u001b[0m\u001b[1;33m\u001b[0m\u001b[0m\n\u001b[0;32m      5\u001b[0m \u001b[1;33m\u001b[0m\u001b[0m\n",
      "\u001b[1;32m~\\Anaconda3\\lib\\site-packages\\tensorflow\\python\\client\\session.py\u001b[0m in \u001b[0;36mrun\u001b[1;34m(self, fetches, feed_dict, options, run_metadata)\u001b[0m\n\u001b[0;32m    948\u001b[0m     \u001b[1;32mtry\u001b[0m\u001b[1;33m:\u001b[0m\u001b[1;33m\u001b[0m\u001b[1;33m\u001b[0m\u001b[0m\n\u001b[0;32m    949\u001b[0m       result = self._run(None, fetches, feed_dict, options_ptr,\n\u001b[1;32m--> 950\u001b[1;33m                          run_metadata_ptr)\n\u001b[0m\u001b[0;32m    951\u001b[0m       \u001b[1;32mif\u001b[0m \u001b[0mrun_metadata\u001b[0m\u001b[1;33m:\u001b[0m\u001b[1;33m\u001b[0m\u001b[1;33m\u001b[0m\u001b[0m\n\u001b[0;32m    952\u001b[0m         \u001b[0mproto_data\u001b[0m \u001b[1;33m=\u001b[0m \u001b[0mtf_session\u001b[0m\u001b[1;33m.\u001b[0m\u001b[0mTF_GetBuffer\u001b[0m\u001b[1;33m(\u001b[0m\u001b[0mrun_metadata_ptr\u001b[0m\u001b[1;33m)\u001b[0m\u001b[1;33m\u001b[0m\u001b[1;33m\u001b[0m\u001b[0m\n",
      "\u001b[1;32m~\\Anaconda3\\lib\\site-packages\\tensorflow\\python\\client\\session.py\u001b[0m in \u001b[0;36m_run\u001b[1;34m(self, handle, fetches, feed_dict, options, run_metadata)\u001b[0m\n\u001b[0;32m   1171\u001b[0m     \u001b[1;32mif\u001b[0m \u001b[0mfinal_fetches\u001b[0m \u001b[1;32mor\u001b[0m \u001b[0mfinal_targets\u001b[0m \u001b[1;32mor\u001b[0m \u001b[1;33m(\u001b[0m\u001b[0mhandle\u001b[0m \u001b[1;32mand\u001b[0m \u001b[0mfeed_dict_tensor\u001b[0m\u001b[1;33m)\u001b[0m\u001b[1;33m:\u001b[0m\u001b[1;33m\u001b[0m\u001b[1;33m\u001b[0m\u001b[0m\n\u001b[0;32m   1172\u001b[0m       results = self._do_run(handle, final_targets, final_fetches,\n\u001b[1;32m-> 1173\u001b[1;33m                              feed_dict_tensor, options, run_metadata)\n\u001b[0m\u001b[0;32m   1174\u001b[0m     \u001b[1;32melse\u001b[0m\u001b[1;33m:\u001b[0m\u001b[1;33m\u001b[0m\u001b[1;33m\u001b[0m\u001b[0m\n\u001b[0;32m   1175\u001b[0m       \u001b[0mresults\u001b[0m \u001b[1;33m=\u001b[0m \u001b[1;33m[\u001b[0m\u001b[1;33m]\u001b[0m\u001b[1;33m\u001b[0m\u001b[1;33m\u001b[0m\u001b[0m\n",
      "\u001b[1;32m~\\Anaconda3\\lib\\site-packages\\tensorflow\\python\\client\\session.py\u001b[0m in \u001b[0;36m_do_run\u001b[1;34m(self, handle, target_list, fetch_list, feed_dict, options, run_metadata)\u001b[0m\n\u001b[0;32m   1348\u001b[0m     \u001b[1;32mif\u001b[0m \u001b[0mhandle\u001b[0m \u001b[1;32mis\u001b[0m \u001b[1;32mNone\u001b[0m\u001b[1;33m:\u001b[0m\u001b[1;33m\u001b[0m\u001b[1;33m\u001b[0m\u001b[0m\n\u001b[0;32m   1349\u001b[0m       return self._do_call(_run_fn, feeds, fetches, targets, options,\n\u001b[1;32m-> 1350\u001b[1;33m                            run_metadata)\n\u001b[0m\u001b[0;32m   1351\u001b[0m     \u001b[1;32melse\u001b[0m\u001b[1;33m:\u001b[0m\u001b[1;33m\u001b[0m\u001b[1;33m\u001b[0m\u001b[0m\n\u001b[0;32m   1352\u001b[0m       \u001b[1;32mreturn\u001b[0m \u001b[0mself\u001b[0m\u001b[1;33m.\u001b[0m\u001b[0m_do_call\u001b[0m\u001b[1;33m(\u001b[0m\u001b[0m_prun_fn\u001b[0m\u001b[1;33m,\u001b[0m \u001b[0mhandle\u001b[0m\u001b[1;33m,\u001b[0m \u001b[0mfeeds\u001b[0m\u001b[1;33m,\u001b[0m \u001b[0mfetches\u001b[0m\u001b[1;33m)\u001b[0m\u001b[1;33m\u001b[0m\u001b[1;33m\u001b[0m\u001b[0m\n",
      "\u001b[1;32m~\\Anaconda3\\lib\\site-packages\\tensorflow\\python\\client\\session.py\u001b[0m in \u001b[0;36m_do_call\u001b[1;34m(self, fn, *args)\u001b[0m\n\u001b[0;32m   1354\u001b[0m   \u001b[1;32mdef\u001b[0m \u001b[0m_do_call\u001b[0m\u001b[1;33m(\u001b[0m\u001b[0mself\u001b[0m\u001b[1;33m,\u001b[0m \u001b[0mfn\u001b[0m\u001b[1;33m,\u001b[0m \u001b[1;33m*\u001b[0m\u001b[0margs\u001b[0m\u001b[1;33m)\u001b[0m\u001b[1;33m:\u001b[0m\u001b[1;33m\u001b[0m\u001b[1;33m\u001b[0m\u001b[0m\n\u001b[0;32m   1355\u001b[0m     \u001b[1;32mtry\u001b[0m\u001b[1;33m:\u001b[0m\u001b[1;33m\u001b[0m\u001b[1;33m\u001b[0m\u001b[0m\n\u001b[1;32m-> 1356\u001b[1;33m       \u001b[1;32mreturn\u001b[0m \u001b[0mfn\u001b[0m\u001b[1;33m(\u001b[0m\u001b[1;33m*\u001b[0m\u001b[0margs\u001b[0m\u001b[1;33m)\u001b[0m\u001b[1;33m\u001b[0m\u001b[1;33m\u001b[0m\u001b[0m\n\u001b[0m\u001b[0;32m   1357\u001b[0m     \u001b[1;32mexcept\u001b[0m \u001b[0merrors\u001b[0m\u001b[1;33m.\u001b[0m\u001b[0mOpError\u001b[0m \u001b[1;32mas\u001b[0m \u001b[0me\u001b[0m\u001b[1;33m:\u001b[0m\u001b[1;33m\u001b[0m\u001b[1;33m\u001b[0m\u001b[0m\n\u001b[0;32m   1358\u001b[0m       \u001b[0mmessage\u001b[0m \u001b[1;33m=\u001b[0m \u001b[0mcompat\u001b[0m\u001b[1;33m.\u001b[0m\u001b[0mas_text\u001b[0m\u001b[1;33m(\u001b[0m\u001b[0me\u001b[0m\u001b[1;33m.\u001b[0m\u001b[0mmessage\u001b[0m\u001b[1;33m)\u001b[0m\u001b[1;33m\u001b[0m\u001b[1;33m\u001b[0m\u001b[0m\n",
      "\u001b[1;32m~\\Anaconda3\\lib\\site-packages\\tensorflow\\python\\client\\session.py\u001b[0m in \u001b[0;36m_run_fn\u001b[1;34m(feed_dict, fetch_list, target_list, options, run_metadata)\u001b[0m\n\u001b[0;32m   1339\u001b[0m       \u001b[0mself\u001b[0m\u001b[1;33m.\u001b[0m\u001b[0m_extend_graph\u001b[0m\u001b[1;33m(\u001b[0m\u001b[1;33m)\u001b[0m\u001b[1;33m\u001b[0m\u001b[1;33m\u001b[0m\u001b[0m\n\u001b[0;32m   1340\u001b[0m       return self._call_tf_sessionrun(\n\u001b[1;32m-> 1341\u001b[1;33m           options, feed_dict, fetch_list, target_list, run_metadata)\n\u001b[0m\u001b[0;32m   1342\u001b[0m \u001b[1;33m\u001b[0m\u001b[0m\n\u001b[0;32m   1343\u001b[0m     \u001b[1;32mdef\u001b[0m \u001b[0m_prun_fn\u001b[0m\u001b[1;33m(\u001b[0m\u001b[0mhandle\u001b[0m\u001b[1;33m,\u001b[0m \u001b[0mfeed_dict\u001b[0m\u001b[1;33m,\u001b[0m \u001b[0mfetch_list\u001b[0m\u001b[1;33m)\u001b[0m\u001b[1;33m:\u001b[0m\u001b[1;33m\u001b[0m\u001b[1;33m\u001b[0m\u001b[0m\n",
      "\u001b[1;32m~\\Anaconda3\\lib\\site-packages\\tensorflow\\python\\client\\session.py\u001b[0m in \u001b[0;36m_call_tf_sessionrun\u001b[1;34m(self, options, feed_dict, fetch_list, target_list, run_metadata)\u001b[0m\n\u001b[0;32m   1427\u001b[0m     return tf_session.TF_SessionRun_wrapper(\n\u001b[0;32m   1428\u001b[0m         \u001b[0mself\u001b[0m\u001b[1;33m.\u001b[0m\u001b[0m_session\u001b[0m\u001b[1;33m,\u001b[0m \u001b[0moptions\u001b[0m\u001b[1;33m,\u001b[0m \u001b[0mfeed_dict\u001b[0m\u001b[1;33m,\u001b[0m \u001b[0mfetch_list\u001b[0m\u001b[1;33m,\u001b[0m \u001b[0mtarget_list\u001b[0m\u001b[1;33m,\u001b[0m\u001b[1;33m\u001b[0m\u001b[1;33m\u001b[0m\u001b[0m\n\u001b[1;32m-> 1429\u001b[1;33m         run_metadata)\n\u001b[0m\u001b[0;32m   1430\u001b[0m \u001b[1;33m\u001b[0m\u001b[0m\n\u001b[0;32m   1431\u001b[0m   \u001b[1;32mdef\u001b[0m \u001b[0m_call_tf_sessionprun\u001b[0m\u001b[1;33m(\u001b[0m\u001b[0mself\u001b[0m\u001b[1;33m,\u001b[0m \u001b[0mhandle\u001b[0m\u001b[1;33m,\u001b[0m \u001b[0mfeed_dict\u001b[0m\u001b[1;33m,\u001b[0m \u001b[0mfetch_list\u001b[0m\u001b[1;33m)\u001b[0m\u001b[1;33m:\u001b[0m\u001b[1;33m\u001b[0m\u001b[1;33m\u001b[0m\u001b[0m\n",
      "\u001b[1;31mKeyboardInterrupt\u001b[0m: "
     ]
    }
   ],
   "source": [
    "batch_gen = batch_generator(batch_size, history_size)\n",
    "saver = tf.train.Saver()\n",
    "\n",
    "for i in tqdm_notebook(range(iterations)):\n",
    "    batch = next(batch_gen)\n",
    "    \n",
    "    input_state = batch[:, 0].tolist()\n",
    "    \n",
    "    _, actor_loss, actor_gradients, _, critic_loss, critic_gradients = sess.run (\n",
    "        (actor_net.train_op, actor_net.loss, actor_net.gradients,\n",
    "         critic_net.train_op, critic_net.loss, critic_net.gradients), feed_dict={\n",
    "                actor_net.input_state: input_state,\n",
    "                actor_net.action_ph: batch[:, 1].tolist(),\n",
    "                actor_net.adv_ph: batch[:, 2],\n",
    "                critic_net.input_state: input_state,\n",
    "                critic_net.target_value_ph: batch[:, 3],\n",
    "            })\n",
    "    \n",
    "    logger[\"actor_loss\"].append(actor_loss)\n",
    "    logger[\"actor_gradients_max_abs\"].append(np.max([np.max(np.abs(var_grad)) for var_grad in actor_gradients]))\n",
    "    logger[\"actor_gradients_equal_zero\"].append(len(actor_gradients[actor_gradients == 0]))\n",
    "    logger[\"critic_loss\"].append(critic_loss)\n",
    "    \n",
    "    ################ Saving progress #################\n",
    "    last_mean_reward = np.array(logger[\"reward\"][-10:]).mean()\n",
    "    if last_mean_reward > max_reward:\n",
    "        max_reward = last_mean_reward\n",
    "        save_path = saver.save(sess, f\"./models/A2C/{env_name}/sess/reward({int(max_reward)}).ckpt\")\n",
    "        \n",
    "        with open(\"./models/A2C/{}/history.file\".format(env_name), \"wb\") as f:\n",
    "            pickle.dump(logger, f)\n",
    "        \n",
    "        print(f\"Model saved in path {save_path}\")\n",
    "    ##################################################"
   ]
  },
  {
   "cell_type": "markdown",
   "metadata": {},
   "source": [
    "# Plotting"
   ]
  },
  {
   "cell_type": "code",
   "execution_count": 28,
   "metadata": {},
   "outputs": [
    {
     "data": {
      "image/png": "[encoded data removed]",
      "text/plain": [
       "<Figure size 1152x648 with 6 Axes>"
      ]
     },
     "metadata": {
      "needs_background": "light"
     },
     "output_type": "display_data"
    }
   ],
   "source": [
    "%matplotlib inline\n",
    "#************ Plotting debug info ****************\n",
    "fig, axs = plt.subplots(2, 3, figsize=(16, 9))\n",
    "plot(logger[\"reward\"], \"Rewards\", axs[0, 0])\n",
    "plot(logger[\"critic_loss\"], \"Critic loss\", axs[0, 1])\n",
    "plot(logger[\"adv_mean\"], \"Advantage mean\", axs[0, 2])\n",
    "plot(logger[\"actor_loss\"], \"Actor loss\", axs[1, 0])\n",
    "plot(logger[\"actions_max\"], \"Actions max\", axs[1, 1])\n",
    "plot(logger[\"value_mean\"], \"Advantage mean\", axs[1, 2])\n",
    "plt.suptitle(env_name, fontsize=18)\n",
    "plt.savefig(\"./models/A2C/{}/plots/reward({}).png\".format(env_name, int(np.array(logger['reward'][-10:]).mean())))\n",
    "#*************************************************"
   ]
  },
  {
   "cell_type": "code",
   "execution_count": 30,
   "metadata": {},
   "outputs": [],
   "source": [
    "env = gym.make(env_name)\n",
    "observation = env.reset()\n",
    "while True:\n",
    "    try:\n",
    "        action = sess.run((actor_net.action_op), feed_dict={\n",
    "            actor_net.input_state: [observation],\n",
    "        })\n",
    "        observation, reward, done, _ = env.step(action[0])\n",
    "        env.render()\n",
    "        \n",
    "        if done:\n",
    "            env.reset()\n",
    "    except KeyboardInterrupt:\n",
    "        env.close()\n",
    "        break\n",
    "env.close()"
   ]
  },
  {
   "cell_type": "code",
   "execution_count": 26,
   "metadata": {},
   "outputs": [
    {
     "name": "stderr",
     "output_type": "stream",
     "text": [
      "C:\\Users\\suriknik\\Anaconda3\\lib\\site-packages\\gym\\logger.py:30: UserWarning: WARN: You are calling 'step()' even though this environment has already returned done = True. You should always call 'reset()' once you receive 'done = True' -- any further steps are undefined behavior.\n",
      "  warnings.warn(colorize('%s: %s'%('WARN', msg % args), 'yellow'))\n"
     ]
    }
   ],
   "source": [
    "envs.close()\n",
    "envs = DummyVecEnv([make_env(env_name, seed) for seed in range(nproc)]) #Dummy"
   ]
  },
  {
   "cell_type": "code",
   "execution_count": null,
   "metadata": {},
   "outputs": [],
   "source": []
  }
 ],
 "metadata": {
  "kernelspec": {
   "display_name": "Python 3",
   "language": "python",
   "name": "python3"
  },
  "language_info": {
   "codemirror_mode": {
    "name": "ipython",
    "version": 3
   },
   "file_extension": ".py",
   "mimetype": "text/x-python",
   "name": "python",
   "nbconvert_exporter": "python",
   "pygments_lexer": "ipython3",
   "version": "3.6.8"
  }
 },
 "nbformat": 4,
 "nbformat_minor": 2
}
